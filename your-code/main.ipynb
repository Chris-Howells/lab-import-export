{
 "cells": [
  {
   "cell_type": "markdown",
   "metadata": {},
   "source": [
    "# Import and Export Files \n",
    "\n",
    "# Challenge 1 - Working with CSV and Other Separated Files\n",
    "\n",
    "Import the pandas library\n",
    "\n",
    "csv files are more commonly used as dataframes. In the cell below, load the file from the URL provided using the `read_csv()` function in pandas. Starting version 0.19 of pandas, you can load a csv file into a dataframe directly from a URL without having to load the file first like we did with the JSON URL. The dataset we will be using contains informtaions about NASA shuttles. \n",
    "\n",
    "In the cell below, we define the column names and the URL of the data. Following this cell, read the tst file to a variable called `shuttle`. Since the file does not contain the column names, you must add them yourself using the column names declared in `cols` using the `names` argument. Additionally, a tst file is space separated, make sure you pass ` sep=' '` to the function."
   ]
  },
  {
   "cell_type": "code",
   "execution_count": 14,
   "metadata": {},
   "outputs": [],
   "source": [
    "#Your pandas import here:\n",
    "\n",
    "import pandas as pd"
   ]
  },
  {
   "cell_type": "code",
   "execution_count": 4,
   "metadata": {},
   "outputs": [],
   "source": [
    "# Run this code:\n",
    "\n",
    "cols = ['time', 'rad_flow', 'fpv_close', 'fpv_open', 'high', 'bypass', 'bpv_close', 'bpv_open', 'class']\n",
    "tst_url = 'https://archive.ics.uci.edu/ml/machine-learning-databases/statlog/shuttle/shuttle.tst'"
   ]
  },
  {
   "cell_type": "code",
   "execution_count": 5,
   "metadata": {},
   "outputs": [
    {
     "name": "stdout",
     "output_type": "stream",
     "text": [
      "    time  rad_flow  fpv_close  fpv_open  high  bypass  bpv_close  bpv_open  \\\n",
      "55     0        81          0        -6    11      25         88        64   \n",
      "56     0        96          0        52    -4      40         44         4   \n",
      "50    -1        89         -7        50     0      39         40         2   \n",
      "53     9        79          0        42    -2      25         37        12   \n",
      "55     2        82          0        54    -6      26         28         2   \n",
      "..   ...       ...        ...       ...   ...     ...        ...       ...   \n",
      "80     0        84          0       -36   -29       4        120       116   \n",
      "55     0        81          0       -20    25      26        102        76   \n",
      "55     0        77          0        12   -22      22         65        42   \n",
      "37     0       103          0        18   -16      66         85        20   \n",
      "56     2        98          0        52     1      42         46         4   \n",
      "\n",
      "    class  \n",
      "55      4  \n",
      "56      4  \n",
      "50      1  \n",
      "53      4  \n",
      "55      1  \n",
      "..    ...  \n",
      "80      5  \n",
      "55      4  \n",
      "55      4  \n",
      "37      1  \n",
      "56      4  \n",
      "\n",
      "[14500 rows x 9 columns]\n"
     ]
    }
   ],
   "source": [
    "# Your code here:\n",
    "\n",
    "#reading the file using read_csv, using a sep ' ' because it's a tst file so needs to know where to separate the values\n",
    "#and making the colums names the names in the variable 'cols'\n",
    "a = pd.read_csv(tst_url, sep=' ', names = cols) \n",
    "\n",
    "print(a)\n"
   ]
  },
  {
   "cell_type": "markdown",
   "metadata": {},
   "source": [
    "Let's verify that this worked by looking at the `head()` function."
   ]
  },
  {
   "cell_type": "code",
   "execution_count": 6,
   "metadata": {},
   "outputs": [
    {
     "name": "stdout",
     "output_type": "stream",
     "text": [
      "    time  rad_flow  fpv_close  fpv_open  high  bypass  bpv_close  bpv_open  \\\n",
      "55     0        81          0        -6    11      25         88        64   \n",
      "56     0        96          0        52    -4      40         44         4   \n",
      "50    -1        89         -7        50     0      39         40         2   \n",
      "53     9        79          0        42    -2      25         37        12   \n",
      "55     2        82          0        54    -6      26         28         2   \n",
      "..   ...       ...        ...       ...   ...     ...        ...       ...   \n",
      "80     0        84          0       -36   -29       4        120       116   \n",
      "55     0        81          0       -20    25      26        102        76   \n",
      "55     0        77          0        12   -22      22         65        42   \n",
      "37     0       103          0        18   -16      66         85        20   \n",
      "56     2        98          0        52     1      42         46         4   \n",
      "\n",
      "    class  \n",
      "55      4  \n",
      "56      4  \n",
      "50      1  \n",
      "53      4  \n",
      "55      1  \n",
      "..    ...  \n",
      "80      5  \n",
      "55      4  \n",
      "55      4  \n",
      "37      1  \n",
      "56      4  \n",
      "\n",
      "[14500 rows x 9 columns]\n",
      "    time  rad_flow  fpv_close  fpv_open  high  bypass  bpv_close  bpv_open  \\\n",
      "55     0        81          0        -6    11      25         88        64   \n",
      "56     0        96          0        52    -4      40         44         4   \n",
      "\n",
      "    class  \n",
      "55      4  \n",
      "56      4  \n"
     ]
    }
   ],
   "source": [
    "# Your code here:\n",
    "\n",
    "#creating a dataframe from the previous varible that read the file and added the colum names in\n",
    "df = pd.DataFrame(a)\n",
    "print(df)\n",
    "\n",
    "#using the head() method to produce the first n rows (in this case 2) and seeing if they match with teh read-csv\n",
    "#variable- which they do\n",
    "hd = df.head(2)\n",
    "print(hd)"
   ]
  },
  {
   "cell_type": "markdown",
   "metadata": {},
   "source": [
    "To make life easier for us, let's turn this dataframe into a comma separated file by saving it using the `to_csv()` function. Save `shuttle` into the file `shuttle.csv` and ensure the file is comma separated and that we are not saving the index column."
   ]
  },
  {
   "cell_type": "code",
   "execution_count": 11,
   "metadata": {},
   "outputs": [
    {
     "name": "stdout",
     "output_type": "stream",
     "text": [
      "       Unnamed: 0  time  rad_flow  fpv_close  fpv_open  high  bypass  \\\n",
      "0              55     0        81          0        -6    11      25   \n",
      "1              56     0        96          0        52    -4      40   \n",
      "2              50    -1        89         -7        50     0      39   \n",
      "3              53     9        79          0        42    -2      25   \n",
      "4              55     2        82          0        54    -6      26   \n",
      "...           ...   ...       ...        ...       ...   ...     ...   \n",
      "14495          80     0        84          0       -36   -29       4   \n",
      "14496          55     0        81          0       -20    25      26   \n",
      "14497          55     0        77          0        12   -22      22   \n",
      "14498          37     0       103          0        18   -16      66   \n",
      "14499          56     2        98          0        52     1      42   \n",
      "\n",
      "       bpv_close  bpv_open  class  \n",
      "0             88        64      4  \n",
      "1             44         4      4  \n",
      "2             40         2      1  \n",
      "3             37        12      4  \n",
      "4             28         2      1  \n",
      "...          ...       ...    ...  \n",
      "14495        120       116      5  \n",
      "14496        102        76      4  \n",
      "14497         65        42      4  \n",
      "14498         85        20      1  \n",
      "14499         46         4      4  \n",
      "\n",
      "[14500 rows x 10 columns]\n",
      "       Unnamed: 0  time  rad_flow  fpv_close  fpv_open  high  bypass  \\\n",
      "0              55     0        81          0        -6    11      25   \n",
      "1              56     0        96          0        52    -4      40   \n",
      "2              50    -1        89         -7        50     0      39   \n",
      "3              53     9        79          0        42    -2      25   \n",
      "4              55     2        82          0        54    -6      26   \n",
      "...           ...   ...       ...        ...       ...   ...     ...   \n",
      "14495          80     0        84          0       -36   -29       4   \n",
      "14496          55     0        81          0       -20    25      26   \n",
      "14497          55     0        77          0        12   -22      22   \n",
      "14498          37     0       103          0        18   -16      66   \n",
      "14499          56     2        98          0        52     1      42   \n",
      "\n",
      "       bpv_close  bpv_open  class  \n",
      "0             88        64      4  \n",
      "1             44         4      4  \n",
      "2             40         2      1  \n",
      "3             37        12      4  \n",
      "4             28         2      1  \n",
      "...          ...       ...    ...  \n",
      "14495        120       116      5  \n",
      "14496        102        76      4  \n",
      "14497         65        42      4  \n",
      "14498         85        20      1  \n",
      "14499         46         4      4  \n",
      "\n",
      "[14500 rows x 10 columns]\n"
     ]
    }
   ],
   "source": [
    "# Your code here:\n",
    "\n",
    "#read the file as a csv and store it in a variable\n",
    "csv_file = pd.read_csv(r'C:\\Users\\chris\\Downloads\\shuttle')\n",
    "\n",
    "#covnert the file to a csv using the to_csv() method with Index = None to remove index column\n",
    "csv_file.to_csv(r'C:\\Users\\chris\\Downloads\\shuttle.csv', index=None)\n",
    "\n",
    "#print it to check it\n",
    "print(csv_file)"
   ]
  },
  {
   "cell_type": "markdown",
   "metadata": {},
   "source": [
    "# Challenge 2 - Working with Excel Files\n",
    "\n",
    "We can also use pandas to convert excel spreadsheets to dataframes. Let's use the `read_excel()` function. In this case, `astronauts.xls` is in the same folder that contains this notebook. Read this file into a variable called `astronaut`. \n",
    "\n",
    "Note: Make sure to install the `xlrd` library if it is not yet installed."
   ]
  },
  {
   "cell_type": "code",
   "execution_count": 28,
   "metadata": {},
   "outputs": [
    {
     "ename": "FileNotFoundError",
     "evalue": "[Errno 2] No such file or directory: 'C:\\\\Users\\\\chris\\\\lab-import-export\\\\your-code\\\\astronaut'",
     "output_type": "error",
     "traceback": [
      "\u001b[1;31m---------------------------------------------------------------------------\u001b[0m",
      "\u001b[1;31mFileNotFoundError\u001b[0m                         Traceback (most recent call last)",
      "\u001b[1;32m<ipython-input-28-f46740c76a52>\u001b[0m in \u001b[0;36m<module>\u001b[1;34m\u001b[0m\n\u001b[0;32m      3\u001b[0m \u001b[1;32mimport\u001b[0m \u001b[0mxlrd\u001b[0m\u001b[1;33m\u001b[0m\u001b[1;33m\u001b[0m\u001b[0m\n\u001b[0;32m      4\u001b[0m \u001b[1;33m\u001b[0m\u001b[0m\n\u001b[1;32m----> 5\u001b[1;33m \u001b[0mastronaut\u001b[0m \u001b[1;33m=\u001b[0m \u001b[0mpd\u001b[0m\u001b[1;33m.\u001b[0m\u001b[0mread_excel\u001b[0m\u001b[1;33m(\u001b[0m\u001b[1;34mr'C:\\Users\\chris\\lab-import-export\\your-code\\astronaut'\u001b[0m\u001b[1;33m)\u001b[0m\u001b[1;33m\u001b[0m\u001b[1;33m\u001b[0m\u001b[0m\n\u001b[0m\u001b[0;32m      6\u001b[0m \u001b[0mprint\u001b[0m\u001b[1;33m(\u001b[0m\u001b[0mastronaut\u001b[0m\u001b[1;33m)\u001b[0m\u001b[1;33m\u001b[0m\u001b[1;33m\u001b[0m\u001b[0m\n\u001b[0;32m      7\u001b[0m \u001b[1;33m\u001b[0m\u001b[0m\n",
      "\u001b[1;32m~\\anaconda3\\lib\\site-packages\\pandas\\io\\excel\\_base.py\u001b[0m in \u001b[0;36mread_excel\u001b[1;34m(io, sheet_name, header, names, index_col, usecols, squeeze, dtype, engine, converters, true_values, false_values, skiprows, nrows, na_values, keep_default_na, verbose, parse_dates, date_parser, thousands, comment, skipfooter, convert_float, mangle_dupe_cols, **kwds)\u001b[0m\n\u001b[0;32m    302\u001b[0m \u001b[1;33m\u001b[0m\u001b[0m\n\u001b[0;32m    303\u001b[0m     \u001b[1;32mif\u001b[0m \u001b[1;32mnot\u001b[0m \u001b[0misinstance\u001b[0m\u001b[1;33m(\u001b[0m\u001b[0mio\u001b[0m\u001b[1;33m,\u001b[0m \u001b[0mExcelFile\u001b[0m\u001b[1;33m)\u001b[0m\u001b[1;33m:\u001b[0m\u001b[1;33m\u001b[0m\u001b[1;33m\u001b[0m\u001b[0m\n\u001b[1;32m--> 304\u001b[1;33m         \u001b[0mio\u001b[0m \u001b[1;33m=\u001b[0m \u001b[0mExcelFile\u001b[0m\u001b[1;33m(\u001b[0m\u001b[0mio\u001b[0m\u001b[1;33m,\u001b[0m \u001b[0mengine\u001b[0m\u001b[1;33m=\u001b[0m\u001b[0mengine\u001b[0m\u001b[1;33m)\u001b[0m\u001b[1;33m\u001b[0m\u001b[1;33m\u001b[0m\u001b[0m\n\u001b[0m\u001b[0;32m    305\u001b[0m     \u001b[1;32melif\u001b[0m \u001b[0mengine\u001b[0m \u001b[1;32mand\u001b[0m \u001b[0mengine\u001b[0m \u001b[1;33m!=\u001b[0m \u001b[0mio\u001b[0m\u001b[1;33m.\u001b[0m\u001b[0mengine\u001b[0m\u001b[1;33m:\u001b[0m\u001b[1;33m\u001b[0m\u001b[1;33m\u001b[0m\u001b[0m\n\u001b[0;32m    306\u001b[0m         raise ValueError(\n",
      "\u001b[1;32m~\\anaconda3\\lib\\site-packages\\pandas\\io\\excel\\_base.py\u001b[0m in \u001b[0;36m__init__\u001b[1;34m(self, io, engine)\u001b[0m\n\u001b[0;32m    822\u001b[0m         \u001b[0mself\u001b[0m\u001b[1;33m.\u001b[0m\u001b[0m_io\u001b[0m \u001b[1;33m=\u001b[0m \u001b[0mstringify_path\u001b[0m\u001b[1;33m(\u001b[0m\u001b[0mio\u001b[0m\u001b[1;33m)\u001b[0m\u001b[1;33m\u001b[0m\u001b[1;33m\u001b[0m\u001b[0m\n\u001b[0;32m    823\u001b[0m \u001b[1;33m\u001b[0m\u001b[0m\n\u001b[1;32m--> 824\u001b[1;33m         \u001b[0mself\u001b[0m\u001b[1;33m.\u001b[0m\u001b[0m_reader\u001b[0m \u001b[1;33m=\u001b[0m \u001b[0mself\u001b[0m\u001b[1;33m.\u001b[0m\u001b[0m_engines\u001b[0m\u001b[1;33m[\u001b[0m\u001b[0mengine\u001b[0m\u001b[1;33m]\u001b[0m\u001b[1;33m(\u001b[0m\u001b[0mself\u001b[0m\u001b[1;33m.\u001b[0m\u001b[0m_io\u001b[0m\u001b[1;33m)\u001b[0m\u001b[1;33m\u001b[0m\u001b[1;33m\u001b[0m\u001b[0m\n\u001b[0m\u001b[0;32m    825\u001b[0m \u001b[1;33m\u001b[0m\u001b[0m\n\u001b[0;32m    826\u001b[0m     \u001b[1;32mdef\u001b[0m \u001b[0m__fspath__\u001b[0m\u001b[1;33m(\u001b[0m\u001b[0mself\u001b[0m\u001b[1;33m)\u001b[0m\u001b[1;33m:\u001b[0m\u001b[1;33m\u001b[0m\u001b[1;33m\u001b[0m\u001b[0m\n",
      "\u001b[1;32m~\\anaconda3\\lib\\site-packages\\pandas\\io\\excel\\_xlrd.py\u001b[0m in \u001b[0;36m__init__\u001b[1;34m(self, filepath_or_buffer)\u001b[0m\n\u001b[0;32m     19\u001b[0m         \u001b[0merr_msg\u001b[0m \u001b[1;33m=\u001b[0m \u001b[1;34m\"Install xlrd >= 1.0.0 for Excel support\"\u001b[0m\u001b[1;33m\u001b[0m\u001b[1;33m\u001b[0m\u001b[0m\n\u001b[0;32m     20\u001b[0m         \u001b[0mimport_optional_dependency\u001b[0m\u001b[1;33m(\u001b[0m\u001b[1;34m\"xlrd\"\u001b[0m\u001b[1;33m,\u001b[0m \u001b[0mextra\u001b[0m\u001b[1;33m=\u001b[0m\u001b[0merr_msg\u001b[0m\u001b[1;33m)\u001b[0m\u001b[1;33m\u001b[0m\u001b[1;33m\u001b[0m\u001b[0m\n\u001b[1;32m---> 21\u001b[1;33m         \u001b[0msuper\u001b[0m\u001b[1;33m(\u001b[0m\u001b[1;33m)\u001b[0m\u001b[1;33m.\u001b[0m\u001b[0m__init__\u001b[0m\u001b[1;33m(\u001b[0m\u001b[0mfilepath_or_buffer\u001b[0m\u001b[1;33m)\u001b[0m\u001b[1;33m\u001b[0m\u001b[1;33m\u001b[0m\u001b[0m\n\u001b[0m\u001b[0;32m     22\u001b[0m \u001b[1;33m\u001b[0m\u001b[0m\n\u001b[0;32m     23\u001b[0m     \u001b[1;33m@\u001b[0m\u001b[0mproperty\u001b[0m\u001b[1;33m\u001b[0m\u001b[1;33m\u001b[0m\u001b[0m\n",
      "\u001b[1;32m~\\anaconda3\\lib\\site-packages\\pandas\\io\\excel\\_base.py\u001b[0m in \u001b[0;36m__init__\u001b[1;34m(self, filepath_or_buffer)\u001b[0m\n\u001b[0;32m    351\u001b[0m             \u001b[0mself\u001b[0m\u001b[1;33m.\u001b[0m\u001b[0mbook\u001b[0m \u001b[1;33m=\u001b[0m \u001b[0mself\u001b[0m\u001b[1;33m.\u001b[0m\u001b[0mload_workbook\u001b[0m\u001b[1;33m(\u001b[0m\u001b[0mfilepath_or_buffer\u001b[0m\u001b[1;33m)\u001b[0m\u001b[1;33m\u001b[0m\u001b[1;33m\u001b[0m\u001b[0m\n\u001b[0;32m    352\u001b[0m         \u001b[1;32melif\u001b[0m \u001b[0misinstance\u001b[0m\u001b[1;33m(\u001b[0m\u001b[0mfilepath_or_buffer\u001b[0m\u001b[1;33m,\u001b[0m \u001b[0mstr\u001b[0m\u001b[1;33m)\u001b[0m\u001b[1;33m:\u001b[0m\u001b[1;33m\u001b[0m\u001b[1;33m\u001b[0m\u001b[0m\n\u001b[1;32m--> 353\u001b[1;33m             \u001b[0mself\u001b[0m\u001b[1;33m.\u001b[0m\u001b[0mbook\u001b[0m \u001b[1;33m=\u001b[0m \u001b[0mself\u001b[0m\u001b[1;33m.\u001b[0m\u001b[0mload_workbook\u001b[0m\u001b[1;33m(\u001b[0m\u001b[0mfilepath_or_buffer\u001b[0m\u001b[1;33m)\u001b[0m\u001b[1;33m\u001b[0m\u001b[1;33m\u001b[0m\u001b[0m\n\u001b[0m\u001b[0;32m    354\u001b[0m         \u001b[1;32melif\u001b[0m \u001b[0misinstance\u001b[0m\u001b[1;33m(\u001b[0m\u001b[0mfilepath_or_buffer\u001b[0m\u001b[1;33m,\u001b[0m \u001b[0mbytes\u001b[0m\u001b[1;33m)\u001b[0m\u001b[1;33m:\u001b[0m\u001b[1;33m\u001b[0m\u001b[1;33m\u001b[0m\u001b[0m\n\u001b[0;32m    355\u001b[0m             \u001b[0mself\u001b[0m\u001b[1;33m.\u001b[0m\u001b[0mbook\u001b[0m \u001b[1;33m=\u001b[0m \u001b[0mself\u001b[0m\u001b[1;33m.\u001b[0m\u001b[0mload_workbook\u001b[0m\u001b[1;33m(\u001b[0m\u001b[0mBytesIO\u001b[0m\u001b[1;33m(\u001b[0m\u001b[0mfilepath_or_buffer\u001b[0m\u001b[1;33m)\u001b[0m\u001b[1;33m)\u001b[0m\u001b[1;33m\u001b[0m\u001b[1;33m\u001b[0m\u001b[0m\n",
      "\u001b[1;32m~\\anaconda3\\lib\\site-packages\\pandas\\io\\excel\\_xlrd.py\u001b[0m in \u001b[0;36mload_workbook\u001b[1;34m(self, filepath_or_buffer)\u001b[0m\n\u001b[0;32m     34\u001b[0m             \u001b[1;32mreturn\u001b[0m \u001b[0mopen_workbook\u001b[0m\u001b[1;33m(\u001b[0m\u001b[0mfile_contents\u001b[0m\u001b[1;33m=\u001b[0m\u001b[0mdata\u001b[0m\u001b[1;33m)\u001b[0m\u001b[1;33m\u001b[0m\u001b[1;33m\u001b[0m\u001b[0m\n\u001b[0;32m     35\u001b[0m         \u001b[1;32melse\u001b[0m\u001b[1;33m:\u001b[0m\u001b[1;33m\u001b[0m\u001b[1;33m\u001b[0m\u001b[0m\n\u001b[1;32m---> 36\u001b[1;33m             \u001b[1;32mreturn\u001b[0m \u001b[0mopen_workbook\u001b[0m\u001b[1;33m(\u001b[0m\u001b[0mfilepath_or_buffer\u001b[0m\u001b[1;33m)\u001b[0m\u001b[1;33m\u001b[0m\u001b[1;33m\u001b[0m\u001b[0m\n\u001b[0m\u001b[0;32m     37\u001b[0m \u001b[1;33m\u001b[0m\u001b[0m\n\u001b[0;32m     38\u001b[0m     \u001b[1;33m@\u001b[0m\u001b[0mproperty\u001b[0m\u001b[1;33m\u001b[0m\u001b[1;33m\u001b[0m\u001b[0m\n",
      "\u001b[1;32m~\\anaconda3\\lib\\site-packages\\xlrd\\__init__.py\u001b[0m in \u001b[0;36mopen_workbook\u001b[1;34m(filename, logfile, verbosity, use_mmap, file_contents, encoding_override, formatting_info, on_demand, ragged_rows)\u001b[0m\n\u001b[0;32m    109\u001b[0m     \u001b[1;32melse\u001b[0m\u001b[1;33m:\u001b[0m\u001b[1;33m\u001b[0m\u001b[1;33m\u001b[0m\u001b[0m\n\u001b[0;32m    110\u001b[0m         \u001b[0mfilename\u001b[0m \u001b[1;33m=\u001b[0m \u001b[0mos\u001b[0m\u001b[1;33m.\u001b[0m\u001b[0mpath\u001b[0m\u001b[1;33m.\u001b[0m\u001b[0mexpanduser\u001b[0m\u001b[1;33m(\u001b[0m\u001b[0mfilename\u001b[0m\u001b[1;33m)\u001b[0m\u001b[1;33m\u001b[0m\u001b[1;33m\u001b[0m\u001b[0m\n\u001b[1;32m--> 111\u001b[1;33m         \u001b[1;32mwith\u001b[0m \u001b[0mopen\u001b[0m\u001b[1;33m(\u001b[0m\u001b[0mfilename\u001b[0m\u001b[1;33m,\u001b[0m \u001b[1;34m\"rb\"\u001b[0m\u001b[1;33m)\u001b[0m \u001b[1;32mas\u001b[0m \u001b[0mf\u001b[0m\u001b[1;33m:\u001b[0m\u001b[1;33m\u001b[0m\u001b[1;33m\u001b[0m\u001b[0m\n\u001b[0m\u001b[0;32m    112\u001b[0m             \u001b[0mpeek\u001b[0m \u001b[1;33m=\u001b[0m \u001b[0mf\u001b[0m\u001b[1;33m.\u001b[0m\u001b[0mread\u001b[0m\u001b[1;33m(\u001b[0m\u001b[0mpeeksz\u001b[0m\u001b[1;33m)\u001b[0m\u001b[1;33m\u001b[0m\u001b[1;33m\u001b[0m\u001b[0m\n\u001b[0;32m    113\u001b[0m     \u001b[1;32mif\u001b[0m \u001b[0mpeek\u001b[0m \u001b[1;33m==\u001b[0m \u001b[1;34mb\"PK\\x03\\x04\"\u001b[0m\u001b[1;33m:\u001b[0m \u001b[1;31m# a ZIP file\u001b[0m\u001b[1;33m\u001b[0m\u001b[1;33m\u001b[0m\u001b[0m\n",
      "\u001b[1;31mFileNotFoundError\u001b[0m: [Errno 2] No such file or directory: 'C:\\\\Users\\\\chris\\\\lab-import-export\\\\your-code\\\\astronaut'"
     ]
    }
   ],
   "source": [
    "# Your code here:\n",
    "\n",
    "import xlrd\n",
    "\n",
    "#creating a variable that reads the excel file astronaut in my lab-import-export folder \n",
    "#this code was origianlly working -- whilst I came back later to upload to github it has stoped working \n",
    "# have explored many angles but code not working again and I'm not sure why\n",
    "\n",
    "astronaut = pd.read_excel(r'C:\\Users\\chris\\lab-import-export\\your-code\\astronaut.xls')\n",
    "print(astronaut)\n",
    "\n"
   ]
  },
  {
   "cell_type": "markdown",
   "metadata": {},
   "source": [
    "Use the `head()` function to inspect the dataframe."
   ]
  },
  {
   "cell_type": "code",
   "execution_count": 24,
   "metadata": {},
   "outputs": [
    {
     "ename": "NameError",
     "evalue": "name 'astronaut' is not defined",
     "output_type": "error",
     "traceback": [
      "\u001b[1;31m---------------------------------------------------------------------------\u001b[0m",
      "\u001b[1;31mNameError\u001b[0m                                 Traceback (most recent call last)",
      "\u001b[1;32m<ipython-input-24-5da515852fbd>\u001b[0m in \u001b[0;36m<module>\u001b[1;34m\u001b[0m\n\u001b[0;32m      1\u001b[0m \u001b[1;31m# Your code here:\u001b[0m\u001b[1;33m\u001b[0m\u001b[1;33m\u001b[0m\u001b[1;33m\u001b[0m\u001b[0m\n\u001b[0;32m      2\u001b[0m \u001b[1;33m\u001b[0m\u001b[0m\n\u001b[1;32m----> 3\u001b[1;33m \u001b[0mastronaut\u001b[0m\u001b[1;33m.\u001b[0m\u001b[0mhead\u001b[0m\u001b[1;33m(\u001b[0m\u001b[1;36m5\u001b[0m\u001b[1;33m)\u001b[0m\u001b[1;33m\u001b[0m\u001b[1;33m\u001b[0m\u001b[0m\n\u001b[0m",
      "\u001b[1;31mNameError\u001b[0m: name 'astronaut' is not defined"
     ]
    }
   ],
   "source": [
    "# Your code here:\n",
    "\n",
    "#code was originally working by using the head() method but due to an unkownn issue affecting previous box, thsi no longer works\n",
    "astronaut.head(5)"
   ]
  },
  {
   "cell_type": "markdown",
   "metadata": {},
   "source": [
    "Use the `value_counts()` function to find the most popular undergraduate major among all astronauts."
   ]
  },
  {
   "cell_type": "code",
   "execution_count": 26,
   "metadata": {},
   "outputs": [
    {
     "ename": "NameError",
     "evalue": "name 'astronaut' is not defined",
     "output_type": "error",
     "traceback": [
      "\u001b[1;31m---------------------------------------------------------------------------\u001b[0m",
      "\u001b[1;31mNameError\u001b[0m                                 Traceback (most recent call last)",
      "\u001b[1;32m<ipython-input-26-fbbd834aa50f>\u001b[0m in \u001b[0;36m<module>\u001b[1;34m\u001b[0m\n\u001b[0;32m      1\u001b[0m \u001b[1;31m# Your code here:\u001b[0m\u001b[1;33m\u001b[0m\u001b[1;33m\u001b[0m\u001b[1;33m\u001b[0m\u001b[0m\n\u001b[0;32m      2\u001b[0m \u001b[1;33m\u001b[0m\u001b[0m\n\u001b[1;32m----> 3\u001b[1;33m \u001b[0mastronaut\u001b[0m\u001b[1;33m[\u001b[0m\u001b[1;34m'Undergraduate Major'\u001b[0m\u001b[1;33m]\u001b[0m\u001b[1;33m.\u001b[0m\u001b[0mvalue_counts\u001b[0m\u001b[1;33m(\u001b[0m\u001b[1;33m)\u001b[0m\u001b[1;33m\u001b[0m\u001b[1;33m\u001b[0m\u001b[0m\n\u001b[0m",
      "\u001b[1;31mNameError\u001b[0m: name 'astronaut' is not defined"
     ]
    }
   ],
   "source": [
    "# Your code here:\n",
    "\n",
    "#Uses the value_counts method to count the number of unique values in the 'Undergraduate Major' colum to get he most popualr undergrad course\n",
    "#but due to an unkownn issue affecting previous box (affecting the astronaut variable), this no longer works\n",
    "astronaut['Undergraduate Major'].value_counts()"
   ]
  },
  {
   "cell_type": "markdown",
   "metadata": {},
   "source": [
    "Due to all the commas present in the cells of this file, let's save it as a tab separated csv file. In the cell below, save `astronaut` as a tab separated file using the `to_csv` function. Call the file `astronaut.csv` and remember to remove the index column."
   ]
  },
  {
   "cell_type": "code",
   "execution_count": 33,
   "metadata": {},
   "outputs": [
    {
     "name": "stdout",
     "output_type": "stream",
     "text": [
      "     Unnamed: 0                   Name    Year  Group   Status  Birth Date  \\\n",
      "0             0        Joseph M. Acaba  2004.0   19.0   Active  1967-05-17   \n",
      "1             1         Loren W. Acton     NaN    NaN  Retired  1936-03-07   \n",
      "2             2       James C. Adamson  1984.0   10.0  Retired  1946-03-03   \n",
      "3             3        Thomas D. Akers  1987.0   12.0  Retired  1951-05-20   \n",
      "4             4            Buzz Aldrin  1963.0    3.0  Retired  1930-01-20   \n",
      "..          ...                    ...     ...    ...      ...         ...   \n",
      "352         352          David A. Wolf  1990.0   13.0  Retired  1956-08-23   \n",
      "353         353  Neil W. Woodward III   1998.0   17.0  Retired  1962-07-26   \n",
      "354         354       Alfred M. Worden  1966.0    5.0  Retired  1932-02-07   \n",
      "355         355          John W. Young  1962.0    2.0  Retired  1930-09-24   \n",
      "356         356        George D. Zamka  1998.0   17.0  Retired  1962-06-29   \n",
      "\n",
      "           Birth Place Gender  \\\n",
      "0        Inglewood, CA   Male   \n",
      "1         Lewiston, MT   Male   \n",
      "2           Warsaw, NY   Male   \n",
      "3        St. Louis, MO   Male   \n",
      "4        Montclair, NJ   Male   \n",
      "..                 ...    ...   \n",
      "352   Indianapolis, IN   Male   \n",
      "353        Chicago, IL   Male   \n",
      "354        Jackson, MI   Male   \n",
      "355  San Francisco, CA   Male   \n",
      "356    Jersey City, NJ   Male   \n",
      "\n",
      "                                            Alma Mater  \\\n",
      "0    University of California-Santa Barbara; Univer...   \n",
      "1     Montana State University; University of Colorado   \n",
      "2            US Military Academy; Princeton University   \n",
      "3                         University of Missouri-Rolla   \n",
      "4                             US Military Academy; MIT   \n",
      "..                                                 ...   \n",
      "352              Purdue University; Indiana University   \n",
      "353  MIT; University of Texas-Austin; George Washin...   \n",
      "354        US Military Academy; University of Michigan   \n",
      "355                    Georgia Institute of Technology   \n",
      "356  US Naval Academy; Florida Institute of Technology   \n",
      "\n",
      "          Undergraduate Major                            Graduate Major  \\\n",
      "0                     Geology                                   Geology   \n",
      "1         Engineering Physics                             Solar Physics   \n",
      "2                 Engineering                     Aerospace Engineering   \n",
      "3         Applied Mathematics                       Applied Mathematics   \n",
      "4      Mechanical Engineering                              Astronautics   \n",
      "..                        ...                                       ...   \n",
      "352    Electrical Engineering                                  Medicine   \n",
      "353                   Physics              Physics; Business Management   \n",
      "354          Military Science  Aeronautical & Astronautical Engineering   \n",
      "355  Aeronautical Engineering                                       NaN   \n",
      "356               Mathematics                    Engineering Management   \n",
      "\n",
      "    Military Rank            Military Branch  Space Flights  \\\n",
      "0             NaN                        NaN              2   \n",
      "1             NaN                        NaN              1   \n",
      "2         Colonel          US Army (Retired)              2   \n",
      "3         Colonel     US Air Force (Retired)              4   \n",
      "4         Colonel     US Air Force (Retired)              2   \n",
      "..            ...                        ...            ...   \n",
      "352           NaN                        NaN              3   \n",
      "353     Commander                    US Navy              0   \n",
      "354       Colonel     US Air Force (Retired)              1   \n",
      "355       Captain          US Navy (Retired)              6   \n",
      "356       Colonel  US Marine Corps (Retired)              2   \n",
      "\n",
      "     Space Flight (hr)  Space Walks  Space Walks (hr)  \\\n",
      "0                 3307            2              13.0   \n",
      "1                  190            0               0.0   \n",
      "2                  334            0               0.0   \n",
      "3                  814            4              29.0   \n",
      "4                  289            2               8.0   \n",
      "..                 ...          ...               ...   \n",
      "352               4044            7              41.0   \n",
      "353                  0            0               0.0   \n",
      "354                295            1               0.5   \n",
      "355                835            3              20.0   \n",
      "356                692            0               0.0   \n",
      "\n",
      "                                              Missions Death Date  \\\n",
      "0               STS-119 (Discovery), ISS-31/32 (Soyuz)        NaN   \n",
      "1                                STS 51-F (Challenger)        NaN   \n",
      "2                 STS-28 (Columbia), STS-43 (Atlantis)        NaN   \n",
      "3    STS-41 (Discovery), STS-49 (Endeavor), STS-61 ...        NaN   \n",
      "4                                 Gemini 12, Apollo 11        NaN   \n",
      "..                                                 ...        ...   \n",
      "352  STS-58 (Columbia). STS-86/89 (Atlantis/Endeavo...        NaN   \n",
      "353                                                NaN        NaN   \n",
      "354                                          Apollo 15        NaN   \n",
      "355  Gemini 3, Gemini 10, Apollo 10, Apollo 16, STS...        NaN   \n",
      "356            STS-120 (Discovery), STS-130 (Endeavor)        NaN   \n",
      "\n",
      "    Death Mission  \n",
      "0             NaN  \n",
      "1             NaN  \n",
      "2             NaN  \n",
      "3             NaN  \n",
      "4             NaN  \n",
      "..            ...  \n",
      "352           NaN  \n",
      "353           NaN  \n",
      "354           NaN  \n",
      "355           NaN  \n",
      "356           NaN  \n",
      "\n",
      "[357 rows x 20 columns]\n"
     ]
    }
   ],
   "source": [
    "#this creates a csvfile using the to_csv() method, with a tab delimiter, the index column = None for no column, and header given\n",
    "\n",
    "astro_data = pd.read_csv(r'C:\\Users\\chris\\lab-import-export\\your-code\\astronauts.xls')\n",
    "astro_data.to_csv (r'C:\\Users\\chris\\lab-import-export\\your-code\\astronauts.csv', sep='\\t', index = None, header=True)\n",
    "\n",
    "print(astro_data)"
   ]
  },
  {
   "cell_type": "markdown",
   "metadata": {},
   "source": [
    "# Bonus Challenge - Fertility Dataset\n",
    "\n",
    "Visit the following [URL](https://archive.ics.uci.edu/ml/datasets/Fertility) and retrieve the dataset as well as the column headers. Determine the correct separator and read the file into a variable called `fertility`. Examine the dataframe using the `head()` function."
   ]
  },
  {
   "cell_type": "code",
   "execution_count": 47,
   "metadata": {},
   "outputs": [
    {
     "name": "stdout",
     "output_type": "stream",
     "text": [
      "    -0.33,0.69,0,1,1,0,0.8,0,0.88,N\n",
      "0   -0.33,0.94,1,0,1,0,0.8,1,0.31,O\n",
      "1      -0.33,0.5,1,0,0,0,1,-1,0.5,N\n",
      "2    -0.33,0.75,0,1,1,0,1,-1,0.38,N\n",
      "3   -0.33,0.67,1,1,0,0,0.8,-1,0.5,O\n",
      "4    -0.33,0.67,1,0,1,0,0.8,0,0.5,N\n",
      "..                              ...\n",
      "94       -1,0.67,1,0,0,0,1,-1,0.5,N\n",
      "95      -1,0.61,1,0,0,0,0.8,0,0.5,N\n",
      "96      -1,0.67,1,1,1,0,1,-1,0.31,N\n",
      "97       -1,0.64,1,0,1,0,1,0,0.19,N\n",
      "98    -1,0.69,0,1,1,0,0.6,-1,0.19,N\n",
      "\n",
      "[99 rows x 1 columns]\n",
      "    -0.33,0.69,0,1,1,0,0.8,0,0.88,N\n",
      "0   -0.33,0.94,1,0,1,0,0.8,1,0.31,O\n",
      "1      -0.33,0.5,1,0,0,0,1,-1,0.5,N\n",
      "2    -0.33,0.75,0,1,1,0,1,-1,0.38,N\n",
      "3   -0.33,0.67,1,1,0,0,0.8,-1,0.5,O\n",
      "4    -0.33,0.67,1,0,1,0,0.8,0,0.5,N\n",
      "..                              ...\n",
      "94       -1,0.67,1,0,0,0,1,-1,0.5,N\n",
      "95      -1,0.61,1,0,0,0,0.8,0,0.5,N\n",
      "96      -1,0.67,1,1,1,0,1,-1,0.31,N\n",
      "97       -1,0.64,1,0,1,0,1,0,0.19,N\n",
      "98    -1,0.69,0,1,1,0,0.6,-1,0.19,N\n",
      "\n",
      "[99 rows x 1 columns]\n"
     ]
    },
    {
     "data": {
      "text/html": [
       "<div>\n",
       "<style scoped>\n",
       "    .dataframe tbody tr th:only-of-type {\n",
       "        vertical-align: middle;\n",
       "    }\n",
       "\n",
       "    .dataframe tbody tr th {\n",
       "        vertical-align: top;\n",
       "    }\n",
       "\n",
       "    .dataframe thead th {\n",
       "        text-align: right;\n",
       "    }\n",
       "</style>\n",
       "<table border=\"1\" class=\"dataframe\">\n",
       "  <thead>\n",
       "    <tr style=\"text-align: right;\">\n",
       "      <th></th>\n",
       "      <th>-0.33,0.69,0,1,1,0,0.8,0,0.88,N</th>\n",
       "    </tr>\n",
       "  </thead>\n",
       "  <tbody>\n",
       "    <tr>\n",
       "      <th>0</th>\n",
       "      <td>-0.33,0.94,1,0,1,0,0.8,1,0.31,O</td>\n",
       "    </tr>\n",
       "    <tr>\n",
       "      <th>1</th>\n",
       "      <td>-0.33,0.5,1,0,0,0,1,-1,0.5,N</td>\n",
       "    </tr>\n",
       "    <tr>\n",
       "      <th>2</th>\n",
       "      <td>-0.33,0.75,0,1,1,0,1,-1,0.38,N</td>\n",
       "    </tr>\n",
       "    <tr>\n",
       "      <th>3</th>\n",
       "      <td>-0.33,0.67,1,1,0,0,0.8,-1,0.5,O</td>\n",
       "    </tr>\n",
       "    <tr>\n",
       "      <th>4</th>\n",
       "      <td>-0.33,0.67,1,0,1,0,0.8,0,0.5,N</td>\n",
       "    </tr>\n",
       "  </tbody>\n",
       "</table>\n",
       "</div>"
      ],
      "text/plain": [
       "   -0.33,0.69,0,1,1,0,0.8,0,0.88,N\n",
       "0  -0.33,0.94,1,0,1,0,0.8,1,0.31,O\n",
       "1     -0.33,0.5,1,0,0,0,1,-1,0.5,N\n",
       "2   -0.33,0.75,0,1,1,0,1,-1,0.38,N\n",
       "3  -0.33,0.67,1,1,0,0,0.8,-1,0.5,O\n",
       "4   -0.33,0.67,1,0,1,0,0.8,0,0.5,N"
      ]
     },
     "execution_count": 47,
     "metadata": {},
     "output_type": "execute_result"
    }
   ],
   "source": [
    "# Your code here:\n",
    "fert_url = 'https://archive.ics.uci.edu/ml/machine-learning-databases/00244/fertility_Diagnosis.txt'\n",
    "\n",
    "fertility = pd.read_csv(fert_url, sep='\\t') \n",
    "print(fertility)\n",
    "\n",
    "fert_f = pd.DataFrame(fertility)\n",
    "print(fert_f)\n",
    "\n",
    "fert_f.head()"
   ]
  },
  {
   "cell_type": "code",
   "execution_count": null,
   "metadata": {},
   "outputs": [],
   "source": []
  }
 ],
 "metadata": {
  "kernelspec": {
   "display_name": "Python 3",
   "language": "python",
   "name": "python3"
  },
  "language_info": {
   "codemirror_mode": {
    "name": "ipython",
    "version": 3
   },
   "file_extension": ".py",
   "mimetype": "text/x-python",
   "name": "python",
   "nbconvert_exporter": "python",
   "pygments_lexer": "ipython3",
   "version": "3.8.3"
  }
 },
 "nbformat": 4,
 "nbformat_minor": 2
}
